{
 "cells": [
  {
   "cell_type": "markdown",
   "metadata": {},
   "source": [
    "# 1) Importations"
   ]
  },
  {
   "cell_type": "code",
   "execution_count": 1,
   "metadata": {},
   "outputs": [
    {
     "name": "stdout",
     "output_type": "stream",
     "text": [
      "Populating the interactive namespace from numpy and matplotlib\n"
     ]
    }
   ],
   "source": [
    "%pylab inline\n",
    "import pandas as pd\n",
    "import os\n",
    "import seaborn as sns\n",
    "from sklearn import preprocessing\n",
    "from sklearn.linear_model import LinearRegression"
   ]
  },
  {
   "cell_type": "code",
   "execution_count": 2,
   "metadata": {},
   "outputs": [],
   "source": [
    "def display_progress_bar(n_tot, n_prog) :\n",
    "    \"\"\"\n",
    "    A snippet of code to dispmay a progress bar for long operations\n",
    "    \"\"\"\n",
    "    from time import sleep\n",
    "    progress = math.ceil((n_prog + 1) * 100 / n_tot)\n",
    "    sys.stdout.write('\\r')\n",
    "    sys.stdout.write(\"[%-100s] %d%%\" %('='*progress, progress))\n",
    "    sys.stdout.flush()\n",
    "    sleep(0.25)"
   ]
  },
  {
   "cell_type": "markdown",
   "metadata": {},
   "source": [
    "# 2) Data loading"
   ]
  },
  {
   "cell_type": "code",
   "execution_count": 3,
   "metadata": {},
   "outputs": [],
   "source": [
    "# Getting current path\n",
    "path = os.getcwd()\n",
    "\n",
    "# Verifying data presence\n",
    "try :\n",
    "    data_raw = pd.read_csv(path + \"/data/movie_metadata.csv\", sep=',')\n",
    "except FileNotFoundError :\n",
    "    print(\"Please check if the file 'movie_metadata.csv' is in the 'data' folder at the current location\")"
   ]
  },
  {
   "cell_type": "markdown",
   "metadata": {},
   "source": [
    "# 3) Data first observation"
   ]
  },
  {
   "cell_type": "code",
   "execution_count": 4,
   "metadata": {},
   "outputs": [
    {
     "data": {
      "text/plain": [
       "(5043, 28)"
      ]
     },
     "execution_count": 4,
     "metadata": {},
     "output_type": "execute_result"
    }
   ],
   "source": [
    "data_raw.shape"
   ]
  },
  {
   "cell_type": "markdown",
   "metadata": {},
   "source": [
    "Not to big of a dataset, what's in it ?"
   ]
  },
  {
   "cell_type": "code",
   "execution_count": 5,
   "metadata": {},
   "outputs": [
    {
     "data": {
      "text/html": [
       "<div>\n",
       "<style scoped>\n",
       "    .dataframe tbody tr th:only-of-type {\n",
       "        vertical-align: middle;\n",
       "    }\n",
       "\n",
       "    .dataframe tbody tr th {\n",
       "        vertical-align: top;\n",
       "    }\n",
       "\n",
       "    .dataframe thead th {\n",
       "        text-align: right;\n",
       "    }\n",
       "</style>\n",
       "<table border=\"1\" class=\"dataframe\">\n",
       "  <thead>\n",
       "    <tr style=\"text-align: right;\">\n",
       "      <th></th>\n",
       "      <th>color</th>\n",
       "      <th>director_name</th>\n",
       "      <th>num_critic_for_reviews</th>\n",
       "      <th>duration</th>\n",
       "      <th>director_facebook_likes</th>\n",
       "      <th>actor_3_facebook_likes</th>\n",
       "      <th>actor_2_name</th>\n",
       "      <th>actor_1_facebook_likes</th>\n",
       "      <th>gross</th>\n",
       "      <th>genres</th>\n",
       "      <th>...</th>\n",
       "      <th>num_user_for_reviews</th>\n",
       "      <th>language</th>\n",
       "      <th>country</th>\n",
       "      <th>content_rating</th>\n",
       "      <th>budget</th>\n",
       "      <th>title_year</th>\n",
       "      <th>actor_2_facebook_likes</th>\n",
       "      <th>imdb_score</th>\n",
       "      <th>aspect_ratio</th>\n",
       "      <th>movie_facebook_likes</th>\n",
       "    </tr>\n",
       "  </thead>\n",
       "  <tbody>\n",
       "    <tr>\n",
       "      <th>0</th>\n",
       "      <td>Color</td>\n",
       "      <td>James Cameron</td>\n",
       "      <td>723.0</td>\n",
       "      <td>178.0</td>\n",
       "      <td>0.0</td>\n",
       "      <td>855.0</td>\n",
       "      <td>Joel David Moore</td>\n",
       "      <td>1000.0</td>\n",
       "      <td>760505847.0</td>\n",
       "      <td>Action|Adventure|Fantasy|Sci-Fi</td>\n",
       "      <td>...</td>\n",
       "      <td>3054.0</td>\n",
       "      <td>English</td>\n",
       "      <td>USA</td>\n",
       "      <td>PG-13</td>\n",
       "      <td>237000000.0</td>\n",
       "      <td>2009.0</td>\n",
       "      <td>936.0</td>\n",
       "      <td>7.9</td>\n",
       "      <td>1.78</td>\n",
       "      <td>33000</td>\n",
       "    </tr>\n",
       "    <tr>\n",
       "      <th>1</th>\n",
       "      <td>Color</td>\n",
       "      <td>Gore Verbinski</td>\n",
       "      <td>302.0</td>\n",
       "      <td>169.0</td>\n",
       "      <td>563.0</td>\n",
       "      <td>1000.0</td>\n",
       "      <td>Orlando Bloom</td>\n",
       "      <td>40000.0</td>\n",
       "      <td>309404152.0</td>\n",
       "      <td>Action|Adventure|Fantasy</td>\n",
       "      <td>...</td>\n",
       "      <td>1238.0</td>\n",
       "      <td>English</td>\n",
       "      <td>USA</td>\n",
       "      <td>PG-13</td>\n",
       "      <td>300000000.0</td>\n",
       "      <td>2007.0</td>\n",
       "      <td>5000.0</td>\n",
       "      <td>7.1</td>\n",
       "      <td>2.35</td>\n",
       "      <td>0</td>\n",
       "    </tr>\n",
       "    <tr>\n",
       "      <th>2</th>\n",
       "      <td>Color</td>\n",
       "      <td>Sam Mendes</td>\n",
       "      <td>602.0</td>\n",
       "      <td>148.0</td>\n",
       "      <td>0.0</td>\n",
       "      <td>161.0</td>\n",
       "      <td>Rory Kinnear</td>\n",
       "      <td>11000.0</td>\n",
       "      <td>200074175.0</td>\n",
       "      <td>Action|Adventure|Thriller</td>\n",
       "      <td>...</td>\n",
       "      <td>994.0</td>\n",
       "      <td>English</td>\n",
       "      <td>UK</td>\n",
       "      <td>PG-13</td>\n",
       "      <td>245000000.0</td>\n",
       "      <td>2015.0</td>\n",
       "      <td>393.0</td>\n",
       "      <td>6.8</td>\n",
       "      <td>2.35</td>\n",
       "      <td>85000</td>\n",
       "    </tr>\n",
       "    <tr>\n",
       "      <th>3</th>\n",
       "      <td>Color</td>\n",
       "      <td>Christopher Nolan</td>\n",
       "      <td>813.0</td>\n",
       "      <td>164.0</td>\n",
       "      <td>22000.0</td>\n",
       "      <td>23000.0</td>\n",
       "      <td>Christian Bale</td>\n",
       "      <td>27000.0</td>\n",
       "      <td>448130642.0</td>\n",
       "      <td>Action|Thriller</td>\n",
       "      <td>...</td>\n",
       "      <td>2701.0</td>\n",
       "      <td>English</td>\n",
       "      <td>USA</td>\n",
       "      <td>PG-13</td>\n",
       "      <td>250000000.0</td>\n",
       "      <td>2012.0</td>\n",
       "      <td>23000.0</td>\n",
       "      <td>8.5</td>\n",
       "      <td>2.35</td>\n",
       "      <td>164000</td>\n",
       "    </tr>\n",
       "    <tr>\n",
       "      <th>4</th>\n",
       "      <td>NaN</td>\n",
       "      <td>Doug Walker</td>\n",
       "      <td>NaN</td>\n",
       "      <td>NaN</td>\n",
       "      <td>131.0</td>\n",
       "      <td>NaN</td>\n",
       "      <td>Rob Walker</td>\n",
       "      <td>131.0</td>\n",
       "      <td>NaN</td>\n",
       "      <td>Documentary</td>\n",
       "      <td>...</td>\n",
       "      <td>NaN</td>\n",
       "      <td>NaN</td>\n",
       "      <td>NaN</td>\n",
       "      <td>NaN</td>\n",
       "      <td>NaN</td>\n",
       "      <td>NaN</td>\n",
       "      <td>12.0</td>\n",
       "      <td>7.1</td>\n",
       "      <td>NaN</td>\n",
       "      <td>0</td>\n",
       "    </tr>\n",
       "  </tbody>\n",
       "</table>\n",
       "<p>5 rows × 28 columns</p>\n",
       "</div>"
      ],
      "text/plain": [
       "   color      director_name  num_critic_for_reviews  duration  \\\n",
       "0  Color      James Cameron                   723.0     178.0   \n",
       "1  Color     Gore Verbinski                   302.0     169.0   \n",
       "2  Color         Sam Mendes                   602.0     148.0   \n",
       "3  Color  Christopher Nolan                   813.0     164.0   \n",
       "4    NaN        Doug Walker                     NaN       NaN   \n",
       "\n",
       "   director_facebook_likes  actor_3_facebook_likes      actor_2_name  \\\n",
       "0                      0.0                   855.0  Joel David Moore   \n",
       "1                    563.0                  1000.0     Orlando Bloom   \n",
       "2                      0.0                   161.0      Rory Kinnear   \n",
       "3                  22000.0                 23000.0    Christian Bale   \n",
       "4                    131.0                     NaN        Rob Walker   \n",
       "\n",
       "   actor_1_facebook_likes        gross                           genres  \\\n",
       "0                  1000.0  760505847.0  Action|Adventure|Fantasy|Sci-Fi   \n",
       "1                 40000.0  309404152.0         Action|Adventure|Fantasy   \n",
       "2                 11000.0  200074175.0        Action|Adventure|Thriller   \n",
       "3                 27000.0  448130642.0                  Action|Thriller   \n",
       "4                   131.0          NaN                      Documentary   \n",
       "\n",
       "          ...          num_user_for_reviews language  country  content_rating  \\\n",
       "0         ...                        3054.0  English      USA           PG-13   \n",
       "1         ...                        1238.0  English      USA           PG-13   \n",
       "2         ...                         994.0  English       UK           PG-13   \n",
       "3         ...                        2701.0  English      USA           PG-13   \n",
       "4         ...                           NaN      NaN      NaN             NaN   \n",
       "\n",
       "        budget  title_year actor_2_facebook_likes imdb_score  aspect_ratio  \\\n",
       "0  237000000.0      2009.0                  936.0        7.9          1.78   \n",
       "1  300000000.0      2007.0                 5000.0        7.1          2.35   \n",
       "2  245000000.0      2015.0                  393.0        6.8          2.35   \n",
       "3  250000000.0      2012.0                23000.0        8.5          2.35   \n",
       "4          NaN         NaN                   12.0        7.1           NaN   \n",
       "\n",
       "  movie_facebook_likes  \n",
       "0                33000  \n",
       "1                    0  \n",
       "2                85000  \n",
       "3               164000  \n",
       "4                    0  \n",
       "\n",
       "[5 rows x 28 columns]"
      ]
     },
     "execution_count": 5,
     "metadata": {},
     "output_type": "execute_result"
    }
   ],
   "source": [
    "data_raw.head()"
   ]
  },
  {
   "cell_type": "markdown",
   "metadata": {},
   "source": [
    "First four lines are whole, the fifth is very incomplete/gappy"
   ]
  },
  {
   "cell_type": "markdown",
   "metadata": {},
   "source": [
    "Closer look to each feature"
   ]
  },
  {
   "cell_type": "code",
   "execution_count": 6,
   "metadata": {},
   "outputs": [
    {
     "name": "stdout",
     "output_type": "stream",
     "text": [
      "color : -'Color'- \n",
      "director_name : -'James Cameron'- \n",
      "num_critic_for_reviews : -723.0- \n",
      "duration : -178.0- \n",
      "director_facebook_likes : -0.0- \n",
      "actor_3_facebook_likes : -855.0- \n",
      "actor_2_name : -'Joel David Moore'- \n",
      "actor_1_facebook_likes : -1000.0- \n",
      "gross : -760505847.0- \n",
      "genres : -'Action|Adventure|Fantasy|Sci-Fi'- \n",
      "actor_1_name : -'CCH Pounder'- \n",
      "movie_title : -'Avatar\\xa0'- \n",
      "num_voted_users : -886204- \n",
      "cast_total_facebook_likes : -4834- \n",
      "actor_3_name : -'Wes Studi'- \n",
      "facenumber_in_poster : -0.0- \n",
      "plot_keywords : -'avatar|future|marine|native|paraplegic'- \n",
      "movie_imdb_link : -'http://www.imdb.com/title/tt0499549/?ref_=fn_tt_tt_1'- \n",
      "num_user_for_reviews : -3054.0- \n",
      "language : -'English'- \n",
      "country : -'USA'- \n",
      "content_rating : -'PG-13'- \n",
      "budget : -237000000.0- \n",
      "title_year : -2009.0- \n",
      "actor_2_facebook_likes : -936.0- \n",
      "imdb_score : -7.9- \n",
      "aspect_ratio : -1.78- \n",
      "movie_facebook_likes : -33000- \n"
     ]
    }
   ],
   "source": [
    "for feat in data_raw.columns :\n",
    "    print(\"%s : -%a- \" % (feat, data_raw.loc[0,feat]))"
   ]
  },
  {
   "cell_type": "markdown",
   "metadata": {},
   "source": [
    "Wait, what's this '\\xa0' at the end of the movie's title ? Let's take some random samples"
   ]
  },
  {
   "cell_type": "code",
   "execution_count": 7,
   "metadata": {},
   "outputs": [
    {
     "name": "stdout",
     "output_type": "stream",
     "text": [
      "movie : -Mystery, Alaska -\n",
      "movie : -Eternal Sunshine of the Spotless Mind -\n",
      "movie : -This Is It -\n",
      "movie : -The Illusionist -\n",
      "movie : -Dancer in the Dark -\n"
     ]
    }
   ],
   "source": [
    "rands = np.random.randint(0,4000,5)\n",
    "for rand_samp in rands :\n",
    "    print(\"movie : -%s-\" % data_raw.loc[rand_samp, \"movie_title\"])"
   ]
  },
  {
   "cell_type": "markdown",
   "metadata": {},
   "source": [
    "Weird, there is a space at the end of the name though"
   ]
  },
  {
   "cell_type": "code",
   "execution_count": 8,
   "metadata": {},
   "outputs": [
    {
     "data": {
      "text/plain": [
       "'Mystery, Alaska\\xa0'"
      ]
     },
     "execution_count": 8,
     "metadata": {},
     "output_type": "execute_result"
    }
   ],
   "source": [
    "data_raw.loc[rands[0], \"movie_title\"]"
   ]
  },
  {
   "cell_type": "markdown",
   "metadata": {},
   "source": [
    "Alright, most-likely an encoding error, let's strip those"
   ]
  },
  {
   "cell_type": "code",
   "execution_count": 9,
   "metadata": {},
   "outputs": [],
   "source": [
    "data_raw.loc[:, \"movie_title\"] = data_raw.loc[:, \"movie_title\"].apply(lambda x : x.strip())"
   ]
  },
  {
   "cell_type": "markdown",
   "metadata": {},
   "source": [
    "Check :"
   ]
  },
  {
   "cell_type": "code",
   "execution_count": 10,
   "metadata": {},
   "outputs": [
    {
     "data": {
      "text/plain": [
       "'Mystery, Alaska'"
      ]
     },
     "execution_count": 10,
     "metadata": {},
     "output_type": "execute_result"
    }
   ],
   "source": [
    "data_raw.loc[rands[0], \"movie_title\"]"
   ]
  },
  {
   "cell_type": "markdown",
   "metadata": {},
   "source": [
    "Completely empty columns ?"
   ]
  },
  {
   "cell_type": "code",
   "execution_count": 11,
   "metadata": {},
   "outputs": [
    {
     "name": "stdout",
     "output_type": "stream",
     "text": [
      "There is 0 empty columns in this dataset\n"
     ]
    }
   ],
   "source": [
    "empty_col = data_raw.isnull().all(axis=0).sum()\n",
    "print(\"There is %i empty columns in this dataset\" % empty_col)"
   ]
  },
  {
   "cell_type": "markdown",
   "metadata": {},
   "source": [
    "Completely empty entries ?"
   ]
  },
  {
   "cell_type": "code",
   "execution_count": 12,
   "metadata": {},
   "outputs": [
    {
     "name": "stdout",
     "output_type": "stream",
     "text": [
      "There is 0 empty entry in this dataset\n"
     ]
    }
   ],
   "source": [
    "empty_entry = data_raw.isnull().all(axis=1).sum()\n",
    "print(\"There is %i empty entry in this dataset\" % empty_entry)"
   ]
  },
  {
   "cell_type": "markdown",
   "metadata": {},
   "source": [
    "Good news"
   ]
  },
  {
   "cell_type": "markdown",
   "metadata": {},
   "source": [
    "Obvious duplicates ?"
   ]
  },
  {
   "cell_type": "code",
   "execution_count": 13,
   "metadata": {},
   "outputs": [
    {
     "data": {
      "text/plain": [
       "(45, 28)"
      ]
     },
     "execution_count": 13,
     "metadata": {},
     "output_type": "execute_result"
    }
   ],
   "source": [
    "data_raw[data_raw.duplicated()].shape"
   ]
  },
  {
   "cell_type": "markdown",
   "metadata": {},
   "source": [
    "Drop obvious duplicates if any"
   ]
  },
  {
   "cell_type": "code",
   "execution_count": 14,
   "metadata": {},
   "outputs": [
    {
     "data": {
      "text/plain": [
       "(4998, 28)"
      ]
     },
     "execution_count": 14,
     "metadata": {},
     "output_type": "execute_result"
    }
   ],
   "source": [
    "data_raw = data_raw.drop_duplicates(keep='first')\n",
    "data_raw.shape"
   ]
  },
  {
   "cell_type": "markdown",
   "metadata": {},
   "source": [
    "Movies duplicates ?"
   ]
  },
  {
   "cell_type": "code",
   "execution_count": 15,
   "metadata": {},
   "outputs": [
    {
     "name": "stdout",
     "output_type": "stream",
     "text": [
      "82 duplicates sharing movie title\n"
     ]
    }
   ],
   "source": [
    "dup = data_raw[data_raw.duplicated(subset=[\"movie_title\"])]\n",
    "n_dup = dup.shape[0]\n",
    "print(\"%i duplicates sharing movie title\" % n_dup)"
   ]
  },
  {
   "cell_type": "markdown",
   "metadata": {},
   "source": [
    "Are some of those remakes ?"
   ]
  },
  {
   "cell_type": "code",
   "execution_count": 16,
   "metadata": {},
   "outputs": [
    {
     "name": "stdout",
     "output_type": "stream",
     "text": [
      "79 duplicates sharing movie title and year, therefore 3 potential remakes\n"
     ]
    }
   ],
   "source": [
    "dups = data_raw[data_raw.duplicated(subset=[\"movie_title\", \"title_year\"])]\n",
    "n_dups = dups.shape[0]\n",
    "print(\"%i duplicates sharing movie title and year, therefore %i potential remakes\" % (n_dups, n_dup - n_dups))"
   ]
  },
  {
   "cell_type": "code",
   "execution_count": 17,
   "metadata": {},
   "outputs": [
    {
     "name": "stdout",
     "output_type": "stream",
     "text": [
      "('Out of the Blue', 1980.0)\n",
      "('Out of the Blue', 2006.0)\n",
      "('The Dead Zone', 1983.0)\n",
      "('The Host', 2006.0)\n",
      "('The Host', 2013.0)\n"
     ]
    }
   ],
   "source": [
    "dup_all = data_raw[data_raw.duplicated(subset=[\"movie_title\"], keep=False)]\n",
    "# Grouping by title and year\n",
    "grouped = dup_all.groupby([\"movie_title\", \"title_year\"])\n",
    "# Looking for singletons : potential remakes\n",
    "for name,group in grouped:\n",
    "    if len(group.index) < 2 :\n",
    "        print(name)"
   ]
  },
  {
   "cell_type": "markdown",
   "metadata": {},
   "source": [
    "A quick online check indicates that those are not remakes, but completely different movies. We'll keep them"
   ]
  },
  {
   "cell_type": "markdown",
   "metadata": {},
   "source": [
    "Remove the duplicates of movie title"
   ]
  },
  {
   "cell_type": "code",
   "execution_count": 18,
   "metadata": {},
   "outputs": [
    {
     "name": "stdout",
     "output_type": "stream",
     "text": [
      "(4919, 28)\n"
     ]
    }
   ],
   "source": [
    "data_raw = data_raw.drop_duplicates(subset=[\"movie_title\", \"title_year\"], keep='first')\n",
    "print(data_raw.shape)"
   ]
  },
  {
   "cell_type": "markdown",
   "metadata": {},
   "source": [
    "Look at our features"
   ]
  },
  {
   "cell_type": "code",
   "execution_count": 19,
   "metadata": {},
   "outputs": [
    {
     "name": "stdout",
     "output_type": "stream",
     "text": [
      "color\n",
      "director_name\n",
      "num_critic_for_reviews\n",
      "duration\n",
      "director_facebook_likes\n",
      "actor_3_facebook_likes\n",
      "actor_2_name\n",
      "actor_1_facebook_likes\n",
      "gross\n",
      "genres\n",
      "actor_1_name\n",
      "movie_title\n",
      "num_voted_users\n",
      "cast_total_facebook_likes\n",
      "actor_3_name\n",
      "facenumber_in_poster\n",
      "plot_keywords\n",
      "movie_imdb_link\n",
      "num_user_for_reviews\n",
      "language\n",
      "country\n",
      "content_rating\n",
      "budget\n",
      "title_year\n",
      "actor_2_facebook_likes\n",
      "imdb_score\n",
      "aspect_ratio\n",
      "movie_facebook_likes\n"
     ]
    }
   ],
   "source": [
    "labels = data_raw.columns\n",
    "for lab in labels : print(lab)"
   ]
  },
  {
   "cell_type": "markdown",
   "metadata": {},
   "source": [
    "# 4) Missing values"
   ]
  },
  {
   "cell_type": "code",
   "execution_count": 20,
   "metadata": {},
   "outputs": [
    {
     "data": {
      "text/plain": [
       "color                         19\n",
       "director_name                102\n",
       "num_critic_for_reviews        49\n",
       "duration                      15\n",
       "director_facebook_likes      102\n",
       "actor_3_facebook_likes        23\n",
       "actor_2_name                  13\n",
       "actor_1_facebook_likes         7\n",
       "gross                        863\n",
       "genres                         0\n",
       "actor_1_name                   7\n",
       "movie_title                    0\n",
       "num_voted_users                0\n",
       "cast_total_facebook_likes      0\n",
       "actor_3_name                  23\n",
       "facenumber_in_poster          13\n",
       "plot_keywords                152\n",
       "movie_imdb_link                0\n",
       "num_user_for_reviews          21\n",
       "language                      12\n",
       "country                        5\n",
       "content_rating               301\n",
       "budget                       485\n",
       "title_year                   106\n",
       "actor_2_facebook_likes        13\n",
       "imdb_score                     0\n",
       "aspect_ratio                 326\n",
       "movie_facebook_likes           0\n",
       "dtype: int64"
      ]
     },
     "execution_count": 20,
     "metadata": {},
     "output_type": "execute_result"
    }
   ],
   "source": [
    "data_raw.isna().sum()"
   ]
  },
  {
   "cell_type": "markdown",
   "metadata": {},
   "source": [
    "Some looks related(names and facebook likes for instance)"
   ]
  },
  {
   "cell_type": "markdown",
   "metadata": {},
   "source": [
    "Remove features not of interest for our prediction tool"
   ]
  },
  {
   "cell_type": "code",
   "execution_count": 21,
   "metadata": {},
   "outputs": [],
   "source": [
    "# Pop the facebook likes as it's complecated to link those to their owner in our data\n",
    "data_raw = data_raw.drop(['director_facebook_likes'], axis=1)\n",
    "data_raw = data_raw.drop(['cast_total_facebook_likes'], axis=1)\n",
    "data_raw = data_raw.drop(['actor_1_facebook_likes', 'actor_2_facebook_likes', 'actor_3_facebook_likes'], axis=1)\n",
    "# Drop the budget, which won't be on the same scale according to the time period or the country (currency)\n",
    "data_raw = data_raw.drop(['budget'], axis=1)\n",
    "# Dropping other features\n",
    "data_raw = data_raw.drop(['aspect_ratio'], axis=1)\n",
    "data_raw = data_raw.drop(['facenumber_in_poster'], axis=1)\n",
    "# Dropping movie gross, as this is not a criteria for our recommendation tool (could be though)\n",
    "data_raw = data_raw.drop(['gross'], axis=1)\n",
    "# Content rating should more be used as a main filter, not as a recommendation parameter\n",
    "data_raw = data_raw.drop(['content_rating'], axis=1)"
   ]
  },
  {
   "cell_type": "markdown",
   "metadata": {},
   "source": [
    "New shape"
   ]
  },
  {
   "cell_type": "code",
   "execution_count": 22,
   "metadata": {},
   "outputs": [
    {
     "data": {
      "text/plain": [
       "(4919, 18)"
      ]
     },
     "execution_count": 22,
     "metadata": {},
     "output_type": "execute_result"
    }
   ],
   "source": [
    "data_raw.shape"
   ]
  },
  {
   "cell_type": "code",
   "execution_count": 23,
   "metadata": {},
   "outputs": [
    {
     "data": {
      "text/plain": [
       "color                      19\n",
       "director_name             102\n",
       "num_critic_for_reviews     49\n",
       "duration                   15\n",
       "actor_2_name               13\n",
       "genres                      0\n",
       "actor_1_name                7\n",
       "movie_title                 0\n",
       "num_voted_users             0\n",
       "actor_3_name               23\n",
       "plot_keywords             152\n",
       "movie_imdb_link             0\n",
       "num_user_for_reviews       21\n",
       "language                   12\n",
       "country                     5\n",
       "title_year                106\n",
       "imdb_score                  0\n",
       "movie_facebook_likes        0\n",
       "dtype: int64"
      ]
     },
     "execution_count": 23,
     "metadata": {},
     "output_type": "execute_result"
    }
   ],
   "source": [
    "data_raw.isna().sum()"
   ]
  },
  {
   "cell_type": "markdown",
   "metadata": {},
   "source": [
    "We will tend to reduce the missing values to zero"
   ]
  },
  {
   "cell_type": "code",
   "execution_count": 24,
   "metadata": {},
   "outputs": [],
   "source": [
    "def missing_values(df) :\n",
    "    \"\"\"\n",
    "    Function for dealing with each column's missing values in an appropriate way\n",
    "    Some errors are therefore induced to the database, but those are limited and \n",
    "    carefully taken into account\n",
    "    \"\"\"\n",
    "    \n",
    "    from sklearn.linear_model import LinearRegression\n",
    "    from sklearn import preprocessing\n",
    "    from scipy.optimize import curve_fit\n",
    "    \n",
    "    temp_df = df.copy()\n",
    "    n_rows_init = df.shape[0]\n",
    "    \n",
    "    for label in df.columns :    \n",
    "        \n",
    "        if label == 'color' :\n",
    "            print(\"Removing rows with color and title year missing\")        \n",
    "            # if the title year is missing as well as the color type : drop the row\n",
    "            temp_df = temp_df.dropna(how='all', subset=[label, 'title_year'])\n",
    "            \n",
    "            print(\"Imputing missing color values according to title_year (<1970 : B&W)\")   \n",
    "            # if the year is >= 1970 : color, else B&W\n",
    "            temp_df.loc[(temp_df[label].isna()) & (temp_df['title_year'] >= 1970), label] = \"Color\"\n",
    "            temp_df.loc[(temp_df[label].isna()) & (temp_df['title_year'] < 1970), label] = \"Black and White\"\n",
    "            \n",
    "        elif label == 'director_name' :\n",
    "            print(\"Removing rows with missing director's name\")   \n",
    "            # Remove those entries, sadly can't impute director's name\n",
    "            temp_df = temp_df.dropna(subset=[label])\n",
    "            \n",
    "        elif label in['actor_1_name', 'actor_2_name', 'actor_3_name'] :\n",
    "            print(\"Removing rows with missing actor's name\")   \n",
    "            # Remove those entries, sadly can't impute actor's name\n",
    "            temp_df = temp_df.dropna(subset=[label])\n",
    "            \n",
    "        elif label == 'num_critic_for_reviews' :\n",
    "            print(\"Imputing missing values of num_critic_for_reviews from linear regression with movie_facebook_likes\")   \n",
    "            # R2 score of 0.61\n",
    "            \n",
    "            clean_temp_df = df.dropna()\n",
    "            # Implementing linear regression\n",
    "            x = clean_temp_df['movie_facebook_likes'].values\n",
    "            y = clean_temp_df[label].values\n",
    "            x = x.reshape(len(x), 1)\n",
    "            y = y.reshape(len(x), 1)\n",
    "            regr = LinearRegression()\n",
    "            regr.fit(x, y)\n",
    "            # Imputing values\n",
    "            x_pred = temp_df.loc[temp_df[label].isna(), \"movie_facebook_likes\"].values\n",
    "            x_pred = x_pred.reshape(len(x_pred), 1)\n",
    "            temp_df.loc[temp_df[label].isna(), label] = regr.predict(x_pred)\n",
    "\n",
    "        elif label == 'duration' :\n",
    "            print(\"Replacing missing duration by average of durations\")\n",
    "            mean = temp_df[label].mean()\n",
    "            temp_df.loc[temp_df[label].isna(), label] = mean\n",
    "\n",
    "        elif label == 'gross' :\n",
    "            print(\"Replacing missing gross values by average of gross values <= 5e8 $\")\n",
    "            mean = temp_df[label][temp_df[label] <= 5e8].mean()\n",
    "            temp_df.loc[temp_df[label].isna(), label] = mean\n",
    "\n",
    "        elif label == 'genres' :\n",
    "            print(\"Removing rows with missing genres\")   \n",
    "            # Remove those entries, sadly can't impute genres of a movie\n",
    "            temp_df = temp_df.dropna(subset=[label])\n",
    "\n",
    "        elif label == 'movie_title' :\n",
    "            print(\"Removing rows with missing movie_title\")   \n",
    "            # Remove those entries, sadly can't impute movie_title\n",
    "            temp_df = temp_df.dropna(subset=[label])\n",
    "\n",
    "        elif label == 'num_voted_users' :\n",
    "            print(\"Replacing missing num_voted_users by average of num_voted_users\")\n",
    "            # Not mandatory here, but might need another look if new entries in the database\n",
    "            mean = temp_df[label].mean()\n",
    "            temp_df.loc[temp_df[label].isna(), label] = mean\n",
    "\n",
    "        elif label == 'num_user_for_reviews' :\n",
    "            print(\"Imputing missing values of num_user_for_reviews from linear regression with num_voted_users\")   \n",
    "            # R2 score of 0.60\n",
    "            \n",
    "            clean_temp_df = df.dropna()\n",
    "            # Implementing linear regression\n",
    "            x = clean_temp_df['num_voted_users'].values\n",
    "            y = clean_temp_df[label].values\n",
    "            x = x.reshape(len(x), 1)\n",
    "            y = y.reshape(len(x), 1)\n",
    "            regr = LinearRegression()\n",
    "            regr.fit(x, y)\n",
    "            # Imputing values\n",
    "            x_pred = temp_df.loc[temp_df[label].isna(), \"num_voted_users\"].values\n",
    "            x_pred = x_pred.reshape(len(x_pred), 1)\n",
    "            temp_df.loc[temp_df[label].isna(), label] = regr.predict(x_pred)\n",
    "\n",
    "        elif label == 'language' :\n",
    "            print(\"Removing rows with language and country missing\")        \n",
    "            # if the language is missing as well as the country : drop the row\n",
    "            temp_df = temp_df.dropna(how='all', subset=[label, 'country'])\n",
    "            \n",
    "            print(\"Imputing missing language values according to country (english only)\")   \n",
    "            # if the year is >= 1970 : color, else B&W\n",
    "            eng_countries = [\"UK\", \"USA\", \"Ireland\", \"New Zealand\", \"Australia\", \"Canada\"]\n",
    "            temp_df.loc[(temp_df[label].isna()) & (temp_df['country'].isin(eng_countries)), label] = \"English\"\n",
    "            \n",
    "            print(\"Removing remaining rows with language missing\") \n",
    "            temp_df = temp_df.dropna(subset=[label])\n",
    "\n",
    "        elif label == 'plot_keywords' :\n",
    "            print(\"Removing rows with missing plot_keywords\")   \n",
    "            # Remove those entries, sadly can't impute plot_keywords\n",
    "            temp_df = temp_df.dropna(subset=[label])\n",
    "            \n",
    "        elif label == 'country' :\n",
    "            print(\"Removing rows with missing country\")   \n",
    "            # Remove those entries, sadly can't impute country\n",
    "            temp_df = temp_df.dropna(subset=[label])\n",
    "            \n",
    "        elif label == 'title_year' :\n",
    "            print(\"Imputing missing values of title_year from logarithmic regression with movie_imdb_link\")   \n",
    "            # R2 score of 0.85\n",
    "            # Spearman of 0.98\n",
    "            \n",
    "            link_df = temp_df.loc[:, ['movie_imdb_link']]\n",
    "            \n",
    "            train_year_df = temp_df.dropna().loc[:, ['title_year']]\n",
    "            train_link_df = temp_df.dropna().loc[:, ['movie_imdb_link']]\n",
    "            \n",
    "            # Encoding categorial column\n",
    "            le = preprocessing.LabelEncoder()\n",
    "            le = le.fit(link_df.values.reshape(-1))\n",
    "            temp_df_encoded = link_df.apply(le.transform)\n",
    "            \n",
    "            x = train_link_df.apply(le.transform).values\n",
    "            y = train_year_df.values\n",
    "\n",
    "            data = np.column_stack([x, y])\n",
    "            data = data[data[:,0].argsort()]\n",
    "            x_data = data[:,0].transpose()\n",
    "            y_data = data[:,1].transpose()\n",
    "            \n",
    "            # define a function for fitting\n",
    "            def func(x, a, b, c, d):\n",
    "                return a * np.exp(-b * (x - c)) + d\n",
    "\n",
    "            # fit data and get fit parameters\n",
    "            popt, pcov = curve_fit(func, x_data, y_data)\n",
    "\n",
    "            # Imputing values\n",
    "            x_pred = temp_df_encoded.loc[temp_df[label].isna(), \"movie_imdb_link\"].values\n",
    "            x_pred = x_pred.reshape(len(x_pred), 1)\n",
    "            temp_df.loc[temp_df[label].isna(), label] = func(x_pred, *popt)\n",
    "\n",
    "        elif label == 'imdb_score' :\n",
    "            print(\"Replacing missing imdb_score by average of imdb_score\")\n",
    "            # Not mandatory here, but might need another look if new entries in the database\n",
    "            mean = temp_df[label].mean()\n",
    "            temp_df.loc[temp_df[label].isna(), label] = mean\n",
    "            \n",
    "    n_rows_end = temp_df.shape[0]\n",
    "    rows_deleted = n_rows_init - n_rows_end\n",
    "    print(\"%i rows have been deleted over %i\" % (rows_deleted, n_rows_init))\n",
    "    \n",
    "    return temp_df"
   ]
  },
  {
   "cell_type": "code",
   "execution_count": 25,
   "metadata": {},
   "outputs": [
    {
     "name": "stdout",
     "output_type": "stream",
     "text": [
      "Removing rows with color and title year missing\n",
      "Imputing missing color values according to title_year (<1970 : B&W)\n",
      "Removing rows with missing director's name\n",
      "Imputing missing values of num_critic_for_reviews from linear regression with movie_facebook_likes\n",
      "Replacing missing duration by average of durations\n",
      "Removing rows with missing actor's name\n",
      "Removing rows with missing genres\n",
      "Removing rows with missing actor's name\n",
      "Removing rows with missing movie_title\n",
      "Replacing missing num_voted_users by average of num_voted_users\n",
      "Removing rows with missing actor's name\n",
      "Removing rows with missing plot_keywords\n",
      "Imputing missing values of num_user_for_reviews from linear regression with num_voted_users\n",
      "Removing rows with language and country missing\n",
      "Imputing missing language values according to country (english only)\n",
      "Removing remaining rows with language missing\n",
      "Removing rows with missing country\n",
      "Imputing missing values of title_year from logarithmic regression with movie_imdb_link\n",
      "Replacing missing imdb_score by average of imdb_score\n",
      "260 rows have been deleted over 4919\n"
     ]
    },
    {
     "name": "stderr",
     "output_type": "stream",
     "text": [
      "C:\\Users\\simon\\Anaconda3\\lib\\site-packages\\ipykernel_launcher.py:145: RuntimeWarning: overflow encountered in multiply\n"
     ]
    }
   ],
   "source": [
    "# Run missing values function\n",
    "data_no_mv = data_raw.copy()\n",
    "data_no_mv = missing_values(data_no_mv)"
   ]
  },
  {
   "cell_type": "markdown",
   "metadata": {},
   "source": [
    "All of this for 260 values, still : no missing values at the end"
   ]
  },
  {
   "cell_type": "code",
   "execution_count": 26,
   "metadata": {},
   "outputs": [
    {
     "data": {
      "text/plain": [
       "color                     0\n",
       "director_name             0\n",
       "num_critic_for_reviews    0\n",
       "duration                  0\n",
       "actor_2_name              0\n",
       "genres                    0\n",
       "actor_1_name              0\n",
       "movie_title               0\n",
       "num_voted_users           0\n",
       "actor_3_name              0\n",
       "plot_keywords             0\n",
       "movie_imdb_link           0\n",
       "num_user_for_reviews      0\n",
       "language                  0\n",
       "country                   0\n",
       "title_year                0\n",
       "imdb_score                0\n",
       "movie_facebook_likes      0\n",
       "dtype: int64"
      ]
     },
     "execution_count": 26,
     "metadata": {},
     "output_type": "execute_result"
    }
   ],
   "source": [
    "data_no_mv.isna().sum()"
   ]
  },
  {
   "cell_type": "code",
   "execution_count": 27,
   "metadata": {},
   "outputs": [],
   "source": [
    "# Now we can drop the 'movie_imdb_link' feature\n",
    "data_no_mv = data_no_mv.drop(['movie_imdb_link'], axis=1)"
   ]
  },
  {
   "cell_type": "markdown",
   "metadata": {},
   "source": [
    "# 5) Outliers"
   ]
  },
  {
   "cell_type": "markdown",
   "metadata": {},
   "source": [
    "Let's see if some outliers step out of the crowd"
   ]
  },
  {
   "cell_type": "code",
   "execution_count": 28,
   "metadata": {},
   "outputs": [
    {
     "data": {
      "image/png": "[encoded data removed]",
      "text/plain": [
       "<Figure size 1440x2880 with 6 Axes>"
      ]
     },
     "metadata": {},
     "output_type": "display_data"
    }
   ],
   "source": [
    "#plot by label\n",
    "fig = plt.figure(figsize=(20,40))\n",
    "num_df = data_no_mv.select_dtypes(['float64', 'int64'])\n",
    "for label, num in zip(num_df.columns, range(1,len(num_df.columns))) :    \n",
    "    data = data_no_mv[label].values    \n",
    "    ax = fig.add_subplot(11,3,num)\n",
    "    ax.plot(data)\n",
    "    ax.set_title(label)"
   ]
  },
  {
   "cell_type": "markdown",
   "metadata": {},
   "source": [
    "Not so much : no treatment necessary"
   ]
  },
  {
   "cell_type": "markdown",
   "metadata": {},
   "source": [
    "# 6) More Feature Engineering"
   ]
  },
  {
   "cell_type": "markdown",
   "metadata": {},
   "source": [
    "Remove the space in front of \" Black and White\""
   ]
  },
  {
   "cell_type": "code",
   "execution_count": 29,
   "metadata": {},
   "outputs": [],
   "source": [
    "data_no_mv['color'] = data_no_mv['color'].str.strip()"
   ]
  },
  {
   "cell_type": "markdown",
   "metadata": {},
   "source": [
    "Reindex dataframe"
   ]
  },
  {
   "cell_type": "code",
   "execution_count": 30,
   "metadata": {},
   "outputs": [],
   "source": [
    "data_no_mv = data_no_mv.reset_index(drop=True)"
   ]
  },
  {
   "cell_type": "markdown",
   "metadata": {},
   "source": [
    "Feature engineering for genres : let's do some OneHot encoding manually. We expect one feature by genre"
   ]
  },
  {
   "cell_type": "code",
   "execution_count": 31,
   "metadata": {},
   "outputs": [
    {
     "name": "stdout",
     "output_type": "stream",
     "text": [
      "24 genres in the dataset\n"
     ]
    }
   ],
   "source": [
    "# Get splitted genres in a serie\n",
    "s = data_no_mv.genres.str.split(\"|\").values.tolist()\n",
    "# Get unique genres\n",
    "unique_genres = [genres_out for genres_in in s for genres_out in genres_in]\n",
    "unique_genres = set(unique_genres)\n",
    "unique_genres = list(unique_genres)\n",
    "print(\"%i genres in the dataset\" % len(unique_genres))"
   ]
  },
  {
   "cell_type": "code",
   "execution_count": 32,
   "metadata": {},
   "outputs": [],
   "source": [
    "# Initialize the genres df\n",
    "genres_df = pd.DataFrame(columns=unique_genres)"
   ]
  },
  {
   "cell_type": "code",
   "execution_count": 33,
   "metadata": {},
   "outputs": [],
   "source": [
    "def assign_genres(row, genre_column) :\n",
    "    \"\"\"\n",
    "    Short routine to populate the rows of the genre DF\n",
    "    \"\"\"\n",
    "    genre_found = 0\n",
    "    string_genres = row.loc['genres']\n",
    "    genres_list = string_genres.split(\"|\")\n",
    "    if genre_column in genres_list :\n",
    "        genre_found = 1\n",
    "    return genre_found"
   ]
  },
  {
   "cell_type": "code",
   "execution_count": 34,
   "metadata": {},
   "outputs": [
    {
     "name": "stdout",
     "output_type": "stream",
     "text": [
      "[====================================================================================================] 100%"
     ]
    }
   ],
   "source": [
    "# Assign genres to entries\n",
    "count = 0\n",
    "for genre in unique_genres :\n",
    "    genres_df.loc[:, genre] = data_no_mv.apply(assign_genres, axis=1, args=(genre,))\n",
    "    display_progress_bar(len(unique_genres), count)\n",
    "    count += 1"
   ]
  },
  {
   "cell_type": "markdown",
   "metadata": {},
   "source": [
    "Well, have a look at our new genre df"
   ]
  },
  {
   "cell_type": "code",
   "execution_count": 35,
   "metadata": {},
   "outputs": [
    {
     "data": {
      "text/html": [
       "<div>\n",
       "<style scoped>\n",
       "    .dataframe tbody tr th:only-of-type {\n",
       "        vertical-align: middle;\n",
       "    }\n",
       "\n",
       "    .dataframe tbody tr th {\n",
       "        vertical-align: top;\n",
       "    }\n",
       "\n",
       "    .dataframe thead th {\n",
       "        text-align: right;\n",
       "    }\n",
       "</style>\n",
       "<table border=\"1\" class=\"dataframe\">\n",
       "  <thead>\n",
       "    <tr style=\"text-align: right;\">\n",
       "      <th></th>\n",
       "      <th>Family</th>\n",
       "      <th>Action</th>\n",
       "      <th>Animation</th>\n",
       "      <th>Western</th>\n",
       "      <th>Romance</th>\n",
       "      <th>Sport</th>\n",
       "      <th>Adventure</th>\n",
       "      <th>Comedy</th>\n",
       "      <th>War</th>\n",
       "      <th>Drama</th>\n",
       "      <th>...</th>\n",
       "      <th>History</th>\n",
       "      <th>Horror</th>\n",
       "      <th>Documentary</th>\n",
       "      <th>News</th>\n",
       "      <th>Music</th>\n",
       "      <th>Sci-Fi</th>\n",
       "      <th>Film-Noir</th>\n",
       "      <th>Thriller</th>\n",
       "      <th>Crime</th>\n",
       "      <th>Biography</th>\n",
       "    </tr>\n",
       "  </thead>\n",
       "  <tbody>\n",
       "    <tr>\n",
       "      <th>0</th>\n",
       "      <td>0</td>\n",
       "      <td>1</td>\n",
       "      <td>0</td>\n",
       "      <td>0</td>\n",
       "      <td>0</td>\n",
       "      <td>0</td>\n",
       "      <td>1</td>\n",
       "      <td>0</td>\n",
       "      <td>0</td>\n",
       "      <td>0</td>\n",
       "      <td>...</td>\n",
       "      <td>0</td>\n",
       "      <td>0</td>\n",
       "      <td>0</td>\n",
       "      <td>0</td>\n",
       "      <td>0</td>\n",
       "      <td>1</td>\n",
       "      <td>0</td>\n",
       "      <td>0</td>\n",
       "      <td>0</td>\n",
       "      <td>0</td>\n",
       "    </tr>\n",
       "    <tr>\n",
       "      <th>1</th>\n",
       "      <td>0</td>\n",
       "      <td>1</td>\n",
       "      <td>0</td>\n",
       "      <td>0</td>\n",
       "      <td>0</td>\n",
       "      <td>0</td>\n",
       "      <td>1</td>\n",
       "      <td>0</td>\n",
       "      <td>0</td>\n",
       "      <td>0</td>\n",
       "      <td>...</td>\n",
       "      <td>0</td>\n",
       "      <td>0</td>\n",
       "      <td>0</td>\n",
       "      <td>0</td>\n",
       "      <td>0</td>\n",
       "      <td>0</td>\n",
       "      <td>0</td>\n",
       "      <td>0</td>\n",
       "      <td>0</td>\n",
       "      <td>0</td>\n",
       "    </tr>\n",
       "    <tr>\n",
       "      <th>2</th>\n",
       "      <td>0</td>\n",
       "      <td>1</td>\n",
       "      <td>0</td>\n",
       "      <td>0</td>\n",
       "      <td>0</td>\n",
       "      <td>0</td>\n",
       "      <td>1</td>\n",
       "      <td>0</td>\n",
       "      <td>0</td>\n",
       "      <td>0</td>\n",
       "      <td>...</td>\n",
       "      <td>0</td>\n",
       "      <td>0</td>\n",
       "      <td>0</td>\n",
       "      <td>0</td>\n",
       "      <td>0</td>\n",
       "      <td>0</td>\n",
       "      <td>0</td>\n",
       "      <td>1</td>\n",
       "      <td>0</td>\n",
       "      <td>0</td>\n",
       "    </tr>\n",
       "    <tr>\n",
       "      <th>3</th>\n",
       "      <td>0</td>\n",
       "      <td>1</td>\n",
       "      <td>0</td>\n",
       "      <td>0</td>\n",
       "      <td>0</td>\n",
       "      <td>0</td>\n",
       "      <td>0</td>\n",
       "      <td>0</td>\n",
       "      <td>0</td>\n",
       "      <td>0</td>\n",
       "      <td>...</td>\n",
       "      <td>0</td>\n",
       "      <td>0</td>\n",
       "      <td>0</td>\n",
       "      <td>0</td>\n",
       "      <td>0</td>\n",
       "      <td>0</td>\n",
       "      <td>0</td>\n",
       "      <td>1</td>\n",
       "      <td>0</td>\n",
       "      <td>0</td>\n",
       "    </tr>\n",
       "    <tr>\n",
       "      <th>4</th>\n",
       "      <td>0</td>\n",
       "      <td>1</td>\n",
       "      <td>0</td>\n",
       "      <td>0</td>\n",
       "      <td>0</td>\n",
       "      <td>0</td>\n",
       "      <td>1</td>\n",
       "      <td>0</td>\n",
       "      <td>0</td>\n",
       "      <td>0</td>\n",
       "      <td>...</td>\n",
       "      <td>0</td>\n",
       "      <td>0</td>\n",
       "      <td>0</td>\n",
       "      <td>0</td>\n",
       "      <td>0</td>\n",
       "      <td>1</td>\n",
       "      <td>0</td>\n",
       "      <td>0</td>\n",
       "      <td>0</td>\n",
       "      <td>0</td>\n",
       "    </tr>\n",
       "  </tbody>\n",
       "</table>\n",
       "<p>5 rows × 24 columns</p>\n",
       "</div>"
      ],
      "text/plain": [
       "   Family  Action  Animation  Western  Romance  Sport  Adventure  Comedy  War  \\\n",
       "0       0       1          0        0        0      0          1       0    0   \n",
       "1       0       1          0        0        0      0          1       0    0   \n",
       "2       0       1          0        0        0      0          1       0    0   \n",
       "3       0       1          0        0        0      0          0       0    0   \n",
       "4       0       1          0        0        0      0          1       0    0   \n",
       "\n",
       "   Drama    ...      History  Horror  Documentary  News  Music  Sci-Fi  \\\n",
       "0      0    ...            0       0            0     0      0       1   \n",
       "1      0    ...            0       0            0     0      0       0   \n",
       "2      0    ...            0       0            0     0      0       0   \n",
       "3      0    ...            0       0            0     0      0       0   \n",
       "4      0    ...            0       0            0     0      0       1   \n",
       "\n",
       "   Film-Noir  Thriller  Crime  Biography  \n",
       "0          0         0      0          0  \n",
       "1          0         0      0          0  \n",
       "2          0         1      0          0  \n",
       "3          0         1      0          0  \n",
       "4          0         0      0          0  \n",
       "\n",
       "[5 rows x 24 columns]"
      ]
     },
     "execution_count": 35,
     "metadata": {},
     "output_type": "execute_result"
    }
   ],
   "source": [
    "genres_df.head()"
   ]
  },
  {
   "cell_type": "markdown",
   "metadata": {},
   "source": [
    "Sounds about right, let's check with our 5 first movies"
   ]
  },
  {
   "cell_type": "code",
   "execution_count": 36,
   "metadata": {},
   "outputs": [
    {
     "data": {
      "text/plain": [
       "0    Action|Adventure|Fantasy|Sci-Fi\n",
       "1           Action|Adventure|Fantasy\n",
       "2          Action|Adventure|Thriller\n",
       "3                    Action|Thriller\n",
       "4            Action|Adventure|Sci-Fi\n",
       "Name: genres, dtype: object"
      ]
     },
     "execution_count": 36,
     "metadata": {},
     "output_type": "execute_result"
    }
   ],
   "source": [
    "data_no_mv.loc[:,\"genres\"].head()"
   ]
  },
  {
   "cell_type": "markdown",
   "metadata": {},
   "source": [
    "Feature engineering for keywords : let's do some OneHot encoding manually. We expect one feature by keyword"
   ]
  },
  {
   "cell_type": "code",
   "execution_count": 37,
   "metadata": {},
   "outputs": [
    {
     "name": "stdout",
     "output_type": "stream",
     "text": [
      "7963 keywords in the dataset\n"
     ]
    }
   ],
   "source": [
    "# Get splitted keywords in a serie\n",
    "s = data_no_mv.plot_keywords.str.split(\"|\").values.tolist()\n",
    "# Get unique keywords\n",
    "keywords = [keywords_out for keywords_in in s for keywords_out in keywords_in]\n",
    "unique_keywords = set(keywords)\n",
    "unique_keywords = list(unique_keywords)\n",
    "print(\"%i keywords in the dataset\" % len(unique_keywords))"
   ]
  },
  {
   "cell_type": "code",
   "execution_count": 38,
   "metadata": {},
   "outputs": [
    {
     "data": {
      "text/plain": [
       "array(['love', 'friend', 'murder', 'death', 'police', 'new york city',\n",
       "       'high school', 'alien', 'boy', 'school'], dtype='<U102')"
      ]
     },
     "execution_count": 38,
     "metadata": {},
     "output_type": "execute_result"
    }
   ],
   "source": [
    "# Get unique kw and counts\n",
    "kw_arr = np.array(keywords)\n",
    "kw_unique, kw_count = np.unique(kw_arr, return_counts=True)\n",
    "# Sort by count\n",
    "kw_id_sort = np.argsort(-kw_count)\n",
    "# Get kw sorted by counts\n",
    "kw_unique_sorted = kw_unique[kw_id_sort]\n",
    "# First 10 kw\n",
    "kw_unique_sorted[:10]"
   ]
  },
  {
   "cell_type": "markdown",
   "metadata": {},
   "source": [
    "We'll use the first 100 keywords sorted by counts to avoid too many features"
   ]
  },
  {
   "cell_type": "code",
   "execution_count": 39,
   "metadata": {},
   "outputs": [],
   "source": [
    "# Initialize the keywords dataframe\n",
    "n_first_kw = 100\n",
    "kw_df = pd.DataFrame(columns=kw_unique_sorted[:n_first_kw])"
   ]
  },
  {
   "cell_type": "code",
   "execution_count": 40,
   "metadata": {},
   "outputs": [],
   "source": [
    "def assign_kw(row, kw_column) :\n",
    "    \"\"\"\n",
    "    Short routine to populate the rows of the genre DF\n",
    "    \"\"\"\n",
    "    kw_found = 0\n",
    "    string_kw = row.loc['plot_keywords']\n",
    "    kw_list = string_kw.split(\"|\")\n",
    "    if kw_column in kw_list :\n",
    "        kw_found = 1\n",
    "    return kw_found"
   ]
  },
  {
   "cell_type": "code",
   "execution_count": 41,
   "metadata": {
    "scrolled": true
   },
   "outputs": [
    {
     "name": "stdout",
     "output_type": "stream",
     "text": [
      "[====================================================================================================] 100%"
     ]
    }
   ],
   "source": [
    "# Assign most common 100 keywords to entries\n",
    "count = 0\n",
    "for kw in kw_unique_sorted[:n_first_kw] :\n",
    "    kw_df.loc[:, kw] = data_no_mv.apply(assign_kw, axis=1, args=(kw,))\n",
    "    display_progress_bar(len(kw_unique_sorted[:n_first_kw]), count)\n",
    "    count += 1"
   ]
  },
  {
   "cell_type": "markdown",
   "metadata": {},
   "source": [
    "Have a look"
   ]
  },
  {
   "cell_type": "code",
   "execution_count": 42,
   "metadata": {},
   "outputs": [
    {
     "data": {
      "text/html": [
       "<div>\n",
       "<style scoped>\n",
       "    .dataframe tbody tr th:only-of-type {\n",
       "        vertical-align: middle;\n",
       "    }\n",
       "\n",
       "    .dataframe tbody tr th {\n",
       "        vertical-align: top;\n",
       "    }\n",
       "\n",
       "    .dataframe thead th {\n",
       "        text-align: right;\n",
       "    }\n",
       "</style>\n",
       "<table border=\"1\" class=\"dataframe\">\n",
       "  <thead>\n",
       "    <tr style=\"text-align: right;\">\n",
       "      <th></th>\n",
       "      <th>love</th>\n",
       "      <th>friend</th>\n",
       "      <th>murder</th>\n",
       "      <th>death</th>\n",
       "      <th>police</th>\n",
       "      <th>new york city</th>\n",
       "      <th>high school</th>\n",
       "      <th>alien</th>\n",
       "      <th>boy</th>\n",
       "      <th>school</th>\n",
       "      <th>...</th>\n",
       "      <th>african american</th>\n",
       "      <th>gang</th>\n",
       "      <th>family relationships</th>\n",
       "      <th>monster</th>\n",
       "      <th>martial arts</th>\n",
       "      <th>priest</th>\n",
       "      <th>nudity</th>\n",
       "      <th>military</th>\n",
       "      <th>russian</th>\n",
       "      <th>based on true story</th>\n",
       "    </tr>\n",
       "  </thead>\n",
       "  <tbody>\n",
       "    <tr>\n",
       "      <th>0</th>\n",
       "      <td>0</td>\n",
       "      <td>0</td>\n",
       "      <td>0</td>\n",
       "      <td>0</td>\n",
       "      <td>0</td>\n",
       "      <td>0</td>\n",
       "      <td>0</td>\n",
       "      <td>0</td>\n",
       "      <td>0</td>\n",
       "      <td>0</td>\n",
       "      <td>...</td>\n",
       "      <td>0</td>\n",
       "      <td>0</td>\n",
       "      <td>0</td>\n",
       "      <td>0</td>\n",
       "      <td>0</td>\n",
       "      <td>0</td>\n",
       "      <td>0</td>\n",
       "      <td>0</td>\n",
       "      <td>0</td>\n",
       "      <td>0</td>\n",
       "    </tr>\n",
       "    <tr>\n",
       "      <th>1</th>\n",
       "      <td>0</td>\n",
       "      <td>0</td>\n",
       "      <td>0</td>\n",
       "      <td>0</td>\n",
       "      <td>0</td>\n",
       "      <td>0</td>\n",
       "      <td>0</td>\n",
       "      <td>0</td>\n",
       "      <td>0</td>\n",
       "      <td>0</td>\n",
       "      <td>...</td>\n",
       "      <td>0</td>\n",
       "      <td>0</td>\n",
       "      <td>0</td>\n",
       "      <td>0</td>\n",
       "      <td>0</td>\n",
       "      <td>0</td>\n",
       "      <td>0</td>\n",
       "      <td>0</td>\n",
       "      <td>0</td>\n",
       "      <td>0</td>\n",
       "    </tr>\n",
       "    <tr>\n",
       "      <th>2</th>\n",
       "      <td>0</td>\n",
       "      <td>0</td>\n",
       "      <td>0</td>\n",
       "      <td>0</td>\n",
       "      <td>0</td>\n",
       "      <td>0</td>\n",
       "      <td>0</td>\n",
       "      <td>0</td>\n",
       "      <td>0</td>\n",
       "      <td>0</td>\n",
       "      <td>...</td>\n",
       "      <td>0</td>\n",
       "      <td>0</td>\n",
       "      <td>0</td>\n",
       "      <td>0</td>\n",
       "      <td>0</td>\n",
       "      <td>0</td>\n",
       "      <td>0</td>\n",
       "      <td>0</td>\n",
       "      <td>0</td>\n",
       "      <td>0</td>\n",
       "    </tr>\n",
       "    <tr>\n",
       "      <th>3</th>\n",
       "      <td>0</td>\n",
       "      <td>0</td>\n",
       "      <td>0</td>\n",
       "      <td>0</td>\n",
       "      <td>0</td>\n",
       "      <td>0</td>\n",
       "      <td>0</td>\n",
       "      <td>0</td>\n",
       "      <td>0</td>\n",
       "      <td>0</td>\n",
       "      <td>...</td>\n",
       "      <td>0</td>\n",
       "      <td>0</td>\n",
       "      <td>0</td>\n",
       "      <td>0</td>\n",
       "      <td>0</td>\n",
       "      <td>0</td>\n",
       "      <td>0</td>\n",
       "      <td>0</td>\n",
       "      <td>0</td>\n",
       "      <td>0</td>\n",
       "    </tr>\n",
       "    <tr>\n",
       "      <th>4</th>\n",
       "      <td>0</td>\n",
       "      <td>0</td>\n",
       "      <td>0</td>\n",
       "      <td>0</td>\n",
       "      <td>0</td>\n",
       "      <td>0</td>\n",
       "      <td>0</td>\n",
       "      <td>1</td>\n",
       "      <td>0</td>\n",
       "      <td>0</td>\n",
       "      <td>...</td>\n",
       "      <td>0</td>\n",
       "      <td>0</td>\n",
       "      <td>0</td>\n",
       "      <td>0</td>\n",
       "      <td>0</td>\n",
       "      <td>0</td>\n",
       "      <td>0</td>\n",
       "      <td>0</td>\n",
       "      <td>0</td>\n",
       "      <td>0</td>\n",
       "    </tr>\n",
       "  </tbody>\n",
       "</table>\n",
       "<p>5 rows × 100 columns</p>\n",
       "</div>"
      ],
      "text/plain": [
       "   love  friend  murder  death  police  new york city  high school  alien  \\\n",
       "0     0       0       0      0       0              0            0      0   \n",
       "1     0       0       0      0       0              0            0      0   \n",
       "2     0       0       0      0       0              0            0      0   \n",
       "3     0       0       0      0       0              0            0      0   \n",
       "4     0       0       0      0       0              0            0      1   \n",
       "\n",
       "   boy  school         ...           african american  gang  \\\n",
       "0    0       0         ...                          0     0   \n",
       "1    0       0         ...                          0     0   \n",
       "2    0       0         ...                          0     0   \n",
       "3    0       0         ...                          0     0   \n",
       "4    0       0         ...                          0     0   \n",
       "\n",
       "   family relationships  monster  martial arts  priest  nudity  military  \\\n",
       "0                     0        0             0       0       0         0   \n",
       "1                     0        0             0       0       0         0   \n",
       "2                     0        0             0       0       0         0   \n",
       "3                     0        0             0       0       0         0   \n",
       "4                     0        0             0       0       0         0   \n",
       "\n",
       "   russian  based on true story  \n",
       "0        0                    0  \n",
       "1        0                    0  \n",
       "2        0                    0  \n",
       "3        0                    0  \n",
       "4        0                    0  \n",
       "\n",
       "[5 rows x 100 columns]"
      ]
     },
     "execution_count": 42,
     "metadata": {},
     "output_type": "execute_result"
    }
   ],
   "source": [
    "kw_df.head()"
   ]
  },
  {
   "cell_type": "markdown",
   "metadata": {},
   "source": [
    "Feature engineering for actors : let's do some OneHot encoding manually. We expect one feature by actor's name"
   ]
  },
  {
   "cell_type": "code",
   "execution_count": 69,
   "metadata": {},
   "outputs": [],
   "source": [
    "# DF of lists for treatment, string for unique actors\n",
    "actors_df_init = pd.DataFrame()\n",
    "actors_df_init['actors'] = data_no_mv.loc[:,'actor_1_name'] + \"|\" + data_no_mv.loc[:,'actor_2_name'] + \"|\" + data_no_mv.loc[:,'actor_3_name']\n",
    "actors_features = ['actor_1_name', 'actor_2_name', 'actor_3_name']\n",
    "actors_df_init_lists = pd.DataFrame()\n",
    "actors_df_init_lists['actors'] = data_no_mv.loc[:,actors_features].apply(lambda x: list(x), axis=1)"
   ]
  },
  {
   "cell_type": "code",
   "execution_count": 70,
   "metadata": {},
   "outputs": [
    {
     "name": "stdout",
     "output_type": "stream",
     "text": [
      "5841 actors in the dataset\n"
     ]
    }
   ],
   "source": [
    "# Get splitted actors in a serie\n",
    "s = actors_df_init.actors.str.split(\"|\").values.tolist()\n",
    "# Get unique actors\n",
    "unique_actors = [actors_out for actors_in in s for actors_out in actors_in]\n",
    "unique_actors = set(unique_actors)\n",
    "unique_actors = list(unique_actors)\n",
    "print(\"%i actors in the dataset\" % len(unique_actors))"
   ]
  },
  {
   "cell_type": "code",
   "execution_count": 84,
   "metadata": {},
   "outputs": [],
   "source": [
    "# Assign actors to entries (very, very long)\n",
    "# Verifying data presence\n",
    "try :\n",
    "    actors_df = pd.read_csv(path + \"/data/actors_df.csv\", sep=',')\n",
    "except FileNotFoundError :\n",
    "    actors_df = pd.DataFrame(columns=unique_actors)\n",
    "    count = 0\n",
    "    for actor in unique_actors :\n",
    "        actors_df.loc[:, actor] = actors_df_init_lists.apply(lambda row : 1 if actor in row.values[0] else 0, axis=1)\n",
    "        display_progress_bar(len(unique_actors), count)\n",
    "        count += 1\n",
    "    # Save actors df (long to compute) for next time\n",
    "    actors_df.to_csv(\"data/actors_df.csv\", index=False)"
   ]
  },
  {
   "cell_type": "code",
   "execution_count": 85,
   "metadata": {},
   "outputs": [
    {
     "data": {
      "text/html": [
       "<div>\n",
       "<style scoped>\n",
       "    .dataframe tbody tr th:only-of-type {\n",
       "        vertical-align: middle;\n",
       "    }\n",
       "\n",
       "    .dataframe tbody tr th {\n",
       "        vertical-align: top;\n",
       "    }\n",
       "\n",
       "    .dataframe thead th {\n",
       "        text-align: right;\n",
       "    }\n",
       "</style>\n",
       "<table border=\"1\" class=\"dataframe\">\n",
       "  <thead>\n",
       "    <tr style=\"text-align: right;\">\n",
       "      <th></th>\n",
       "      <th>Nelson Ascencio</th>\n",
       "      <th>Kelly Rowan</th>\n",
       "      <th>Julianna Guill</th>\n",
       "      <th>Adrian Paul</th>\n",
       "      <th>Corbin Allred</th>\n",
       "      <th>Tony Nappo</th>\n",
       "      <th>Amber Valletta</th>\n",
       "      <th>Eric Idle</th>\n",
       "      <th>Tim Daly</th>\n",
       "      <th>Ruth Sheen</th>\n",
       "      <th>...</th>\n",
       "      <th>Kelly Lynch</th>\n",
       "      <th>Rip Torn</th>\n",
       "      <th>Mackenzie Aladjem</th>\n",
       "      <th>Ella Wahlestedt</th>\n",
       "      <th>Jeff Garlin</th>\n",
       "      <th>Scott Adsit</th>\n",
       "      <th>Louise Fletcher</th>\n",
       "      <th>Rachel Crow</th>\n",
       "      <th>Hulk Hogan</th>\n",
       "      <th>Billy Brown</th>\n",
       "    </tr>\n",
       "  </thead>\n",
       "  <tbody>\n",
       "    <tr>\n",
       "      <th>0</th>\n",
       "      <td>0</td>\n",
       "      <td>0</td>\n",
       "      <td>0</td>\n",
       "      <td>0</td>\n",
       "      <td>0</td>\n",
       "      <td>0</td>\n",
       "      <td>0</td>\n",
       "      <td>0</td>\n",
       "      <td>0</td>\n",
       "      <td>0</td>\n",
       "      <td>...</td>\n",
       "      <td>0</td>\n",
       "      <td>0</td>\n",
       "      <td>0</td>\n",
       "      <td>0</td>\n",
       "      <td>0</td>\n",
       "      <td>0</td>\n",
       "      <td>0</td>\n",
       "      <td>0</td>\n",
       "      <td>0</td>\n",
       "      <td>0</td>\n",
       "    </tr>\n",
       "    <tr>\n",
       "      <th>1</th>\n",
       "      <td>0</td>\n",
       "      <td>0</td>\n",
       "      <td>0</td>\n",
       "      <td>0</td>\n",
       "      <td>0</td>\n",
       "      <td>0</td>\n",
       "      <td>0</td>\n",
       "      <td>0</td>\n",
       "      <td>0</td>\n",
       "      <td>0</td>\n",
       "      <td>...</td>\n",
       "      <td>0</td>\n",
       "      <td>0</td>\n",
       "      <td>0</td>\n",
       "      <td>0</td>\n",
       "      <td>0</td>\n",
       "      <td>0</td>\n",
       "      <td>0</td>\n",
       "      <td>0</td>\n",
       "      <td>0</td>\n",
       "      <td>0</td>\n",
       "    </tr>\n",
       "    <tr>\n",
       "      <th>2</th>\n",
       "      <td>0</td>\n",
       "      <td>0</td>\n",
       "      <td>0</td>\n",
       "      <td>0</td>\n",
       "      <td>0</td>\n",
       "      <td>0</td>\n",
       "      <td>0</td>\n",
       "      <td>0</td>\n",
       "      <td>0</td>\n",
       "      <td>0</td>\n",
       "      <td>...</td>\n",
       "      <td>0</td>\n",
       "      <td>0</td>\n",
       "      <td>0</td>\n",
       "      <td>0</td>\n",
       "      <td>0</td>\n",
       "      <td>0</td>\n",
       "      <td>0</td>\n",
       "      <td>0</td>\n",
       "      <td>0</td>\n",
       "      <td>0</td>\n",
       "    </tr>\n",
       "    <tr>\n",
       "      <th>3</th>\n",
       "      <td>0</td>\n",
       "      <td>0</td>\n",
       "      <td>0</td>\n",
       "      <td>0</td>\n",
       "      <td>0</td>\n",
       "      <td>0</td>\n",
       "      <td>0</td>\n",
       "      <td>0</td>\n",
       "      <td>0</td>\n",
       "      <td>0</td>\n",
       "      <td>...</td>\n",
       "      <td>0</td>\n",
       "      <td>0</td>\n",
       "      <td>0</td>\n",
       "      <td>0</td>\n",
       "      <td>0</td>\n",
       "      <td>0</td>\n",
       "      <td>0</td>\n",
       "      <td>0</td>\n",
       "      <td>0</td>\n",
       "      <td>0</td>\n",
       "    </tr>\n",
       "    <tr>\n",
       "      <th>4</th>\n",
       "      <td>0</td>\n",
       "      <td>0</td>\n",
       "      <td>0</td>\n",
       "      <td>0</td>\n",
       "      <td>0</td>\n",
       "      <td>0</td>\n",
       "      <td>0</td>\n",
       "      <td>0</td>\n",
       "      <td>0</td>\n",
       "      <td>0</td>\n",
       "      <td>...</td>\n",
       "      <td>0</td>\n",
       "      <td>0</td>\n",
       "      <td>0</td>\n",
       "      <td>0</td>\n",
       "      <td>0</td>\n",
       "      <td>0</td>\n",
       "      <td>0</td>\n",
       "      <td>0</td>\n",
       "      <td>0</td>\n",
       "      <td>0</td>\n",
       "    </tr>\n",
       "  </tbody>\n",
       "</table>\n",
       "<p>5 rows × 5841 columns</p>\n",
       "</div>"
      ],
      "text/plain": [
       "   Nelson Ascencio  Kelly Rowan  Julianna Guill  Adrian Paul  Corbin Allred  \\\n",
       "0                0            0               0            0              0   \n",
       "1                0            0               0            0              0   \n",
       "2                0            0               0            0              0   \n",
       "3                0            0               0            0              0   \n",
       "4                0            0               0            0              0   \n",
       "\n",
       "   Tony Nappo  Amber Valletta  Eric Idle  Tim Daly  Ruth Sheen     ...       \\\n",
       "0           0               0          0         0           0     ...        \n",
       "1           0               0          0         0           0     ...        \n",
       "2           0               0          0         0           0     ...        \n",
       "3           0               0          0         0           0     ...        \n",
       "4           0               0          0         0           0     ...        \n",
       "\n",
       "   Kelly Lynch  Rip Torn  Mackenzie Aladjem  Ella Wahlestedt  Jeff Garlin  \\\n",
       "0            0         0                  0                0            0   \n",
       "1            0         0                  0                0            0   \n",
       "2            0         0                  0                0            0   \n",
       "3            0         0                  0                0            0   \n",
       "4            0         0                  0                0            0   \n",
       "\n",
       "   Scott Adsit  Louise Fletcher  Rachel Crow  Hulk Hogan  Billy Brown  \n",
       "0            0                0            0           0            0  \n",
       "1            0                0            0           0            0  \n",
       "2            0                0            0           0            0  \n",
       "3            0                0            0           0            0  \n",
       "4            0                0            0           0            0  \n",
       "\n",
       "[5 rows x 5841 columns]"
      ]
     },
     "execution_count": 85,
     "metadata": {},
     "output_type": "execute_result"
    }
   ],
   "source": [
    "actors_df.head()"
   ]
  },
  {
   "cell_type": "markdown",
   "metadata": {},
   "source": [
    "Assemble different DataFrames, shapes ?"
   ]
  },
  {
   "cell_type": "code",
   "execution_count": 87,
   "metadata": {},
   "outputs": [
    {
     "name": "stdout",
     "output_type": "stream",
     "text": [
      "data :  (4659, 17)\n",
      "actors :  (4659, 5841)\n",
      "genres :  (4659, 24)\n",
      "keywords :  (4659, 100)\n"
     ]
    }
   ],
   "source": [
    "print(\"data : \", data_no_mv.shape)\n",
    "print(\"actors : \", actors_df.shape)\n",
    "print(\"genres : \", genres_df.shape)\n",
    "print(\"keywords : \", kw_df.shape)"
   ]
  },
  {
   "cell_type": "code",
   "execution_count": 88,
   "metadata": {},
   "outputs": [],
   "source": [
    "# Pop main df features\n",
    "data_new = data_no_mv.copy()\n",
    "data_new = data_new.drop(['genres'], axis=1)\n",
    "data_new = data_new.drop(['plot_keywords'], axis=1)\n",
    "data_new = data_new.drop(actors_features, axis=1)"
   ]
  },
  {
   "cell_type": "code",
   "execution_count": 89,
   "metadata": {},
   "outputs": [
    {
     "name": "stdout",
     "output_type": "stream",
     "text": [
      "data :  (4659, 12)\n",
      "actors :  (4659, 5841)\n",
      "genres :  (4659, 24)\n",
      "keywords :  (4659, 100)\n"
     ]
    }
   ],
   "source": [
    "print(\"data : \", data_new.shape)\n",
    "print(\"actors : \", actors_df.shape)\n",
    "print(\"genres : \", genres_df.shape)\n",
    "print(\"keywords : \", kw_df.shape)"
   ]
  },
  {
   "cell_type": "code",
   "execution_count": 90,
   "metadata": {},
   "outputs": [
    {
     "name": "stdout",
     "output_type": "stream",
     "text": [
      "data new :  (4659, 36)\n",
      "data new :  (4659, 136)\n",
      "data new :  (4659, 5977)\n"
     ]
    }
   ],
   "source": [
    "# Concatenate main df and genres df\n",
    "data_new = pd.concat([data_new, genres_df], axis=1)\n",
    "print(\"data new : \", data_new.shape)\n",
    "# Concatenate main df and plot_keywords df\n",
    "data_new = pd.concat([data_new, kw_df], axis=1)\n",
    "print(\"data new : \", data_new.shape)\n",
    "# Concatenate main df and actors df\n",
    "data_new = pd.concat([data_new, actors_df], axis=1)\n",
    "print(\"data new : \", data_new.shape)"
   ]
  },
  {
   "cell_type": "markdown",
   "metadata": {},
   "source": [
    "Have a look at our data"
   ]
  },
  {
   "cell_type": "code",
   "execution_count": 91,
   "metadata": {},
   "outputs": [
    {
     "data": {
      "text/plain": [
       "array(['color', 'director_name', 'num_critic_for_reviews', 'duration',\n",
       "       'movie_title', 'num_voted_users', 'num_user_for_reviews',\n",
       "       'language', 'country', 'title_year', 'imdb_score',\n",
       "       'movie_facebook_likes', 'Family', 'Action', 'Animation', 'Western',\n",
       "       'Romance', 'Sport', 'Adventure', 'Comedy', 'War', 'Drama',\n",
       "       'Mystery', 'Short', 'Fantasy'], dtype=object)"
      ]
     },
     "execution_count": 91,
     "metadata": {},
     "output_type": "execute_result"
    }
   ],
   "source": [
    "data_new.columns.values[:25]"
   ]
  },
  {
   "cell_type": "markdown",
   "metadata": {},
   "source": [
    "Save reduced data for exploration"
   ]
  },
  {
   "cell_type": "code",
   "execution_count": 92,
   "metadata": {},
   "outputs": [
    {
     "name": "stdout",
     "output_type": "stream",
     "text": [
      "(4659, 5977)\n"
     ]
    }
   ],
   "source": [
    "print(data_new.shape)\n",
    "data_new.to_csv(\"data/movie_recommendation_reduced_data.csv\", index=False)"
   ]
  },
  {
   "cell_type": "markdown",
   "metadata": {},
   "source": [
    "Save reduced data for deployment"
   ]
  },
  {
   "cell_type": "code",
   "execution_count": 93,
   "metadata": {},
   "outputs": [],
   "source": [
    "data_new.to_csv(\"data/movie_recommendation_tool_data.csv\")"
   ]
  }
 ],
 "metadata": {
  "kernelspec": {
   "display_name": "Python 3",
   "language": "python",
   "name": "python3"
  },
  "language_info": {
   "codemirror_mode": {
    "name": "ipython",
    "version": 3
   },
   "file_extension": ".py",
   "mimetype": "text/x-python",
   "name": "python",
   "nbconvert_exporter": "python",
   "pygments_lexer": "ipython3",
   "version": "3.6.5"
  }
 },
 "nbformat": 4,
 "nbformat_minor": 2
}
